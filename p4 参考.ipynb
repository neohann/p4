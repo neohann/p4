{
 "cells": [
  {
   "cell_type": "markdown",
   "metadata": {
    "collapsed": true
   },
   "source": [
    "# Language Translation\n",
    "In this project, you’re going to take a peek into the realm of neural network machine translation.  You’ll be training a sequence to sequence model on a dataset of English and French sentences that can translate new sentences from English to French.\n",
    "## Get the Data\n",
    "Since translating the whole language of English to French will take lots of time to train, we have provided you with a small portion of the English corpus."
   ]
  },
  {
   "cell_type": "code",
   "execution_count": 1,
   "metadata": {
    "collapsed": true
   },
   "outputs": [],
   "source": [
    "\"\"\"\n",
    "DON'T MODIFY ANYTHING IN THIS CELL\n",
    "\"\"\"\n",
    "import helper\n",
    "import problem_unittests as tests\n",
    "\n",
    "source_path = 'data/small_vocab_en'\n",
    "target_path = 'data/small_vocab_fr'\n",
    "source_text = helper.load_data(source_path)\n",
    "target_text = helper.load_data(target_path)"
   ]
  },
  {
   "cell_type": "markdown",
   "metadata": {},
   "source": [
    "## Explore the Data\n",
    "Play around with view_sentence_range to view different parts of the data."
   ]
  },
  {
   "cell_type": "code",
   "execution_count": 2,
   "metadata": {},
   "outputs": [
    {
     "name": "stdout",
     "output_type": "stream",
     "text": [
      "Dataset Stats\n",
      "Roughly the number of unique words: 227\n",
      "Number of sentences: 137861\n",
      "Average number of words in a sentence: 13.225277634719028\n",
      "\n",
      "English sentences 0 to 10:\n",
      "new jersey is sometimes quiet during autumn , and it is snowy in april .\n",
      "the united states is usually chilly during july , and it is usually freezing in november .\n",
      "california is usually quiet during march , and it is usually hot in june .\n",
      "the united states is sometimes mild during june , and it is cold in september .\n",
      "your least liked fruit is the grape , but my least liked is the apple .\n",
      "his favorite fruit is the orange , but my favorite is the grape .\n",
      "paris is relaxing during december , but it is usually chilly in july .\n",
      "new jersey is busy during spring , and it is never hot in march .\n",
      "our least liked fruit is the lemon , but my least liked is the grape .\n",
      "the united states is sometimes busy during january , and it is sometimes warm in november .\n",
      "\n",
      "French sentences 0 to 10:\n",
      "new jersey est parfois calme pendant l' automne , et il est neigeux en avril .\n",
      "les états-unis est généralement froid en juillet , et il gèle habituellement en novembre .\n",
      "california est généralement calme en mars , et il est généralement chaud en juin .\n",
      "les états-unis est parfois légère en juin , et il fait froid en septembre .\n",
      "votre moins aimé fruit est le raisin , mais mon moins aimé est la pomme .\n",
      "son fruit préféré est l'orange , mais mon préféré est le raisin .\n",
      "paris est relaxant en décembre , mais il est généralement froid en juillet .\n",
      "new jersey est occupé au printemps , et il est jamais chaude en mars .\n",
      "notre fruit est moins aimé le citron , mais mon moins aimé est le raisin .\n",
      "les états-unis est parfois occupé en janvier , et il est parfois chaud en novembre .\n"
     ]
    }
   ],
   "source": [
    "view_sentence_range = (0, 10)\n",
    "\n",
    "\"\"\"\n",
    "DON'T MODIFY ANYTHING IN THIS CELL\n",
    "\"\"\"\n",
    "import numpy as np\n",
    "\n",
    "print('Dataset Stats')\n",
    "print('Roughly the number of unique words: {}'.format(len({word: None for word in source_text.split()})))\n",
    "\n",
    "sentences = source_text.split('\\n')\n",
    "word_counts = [len(sentence.split()) for sentence in sentences]\n",
    "print('Number of sentences: {}'.format(len(sentences)))\n",
    "print('Average number of words in a sentence: {}'.format(np.average(word_counts)))\n",
    "\n",
    "print()\n",
    "print('English sentences {} to {}:'.format(*view_sentence_range))\n",
    "print('\\n'.join(source_text.split('\\n')[view_sentence_range[0]:view_sentence_range[1]]))\n",
    "print()\n",
    "print('French sentences {} to {}:'.format(*view_sentence_range))\n",
    "print('\\n'.join(target_text.split('\\n')[view_sentence_range[0]:view_sentence_range[1]]))"
   ]
  },
  {
   "cell_type": "markdown",
   "metadata": {},
   "source": [
    "## Implement Preprocessing Function\n",
    "### Text to Word Ids\n",
    "As you did with other RNNs, you must turn the text into a number so the computer can understand it. In the function `text_to_ids()`, you'll turn `source_text` and `target_text` from words to ids.  However, you need to add the `<EOS>` word id at the end of `target_text`.  This will help the neural network predict when the sentence should end.\n",
    "\n",
    "You can get the `<EOS>` word id by doing:\n",
    "```python\n",
    "target_vocab_to_int['<EOS>']\n",
    "```\n",
    "You can get other word ids using `source_vocab_to_int` and `target_vocab_to_int`."
   ]
  },
  {
   "cell_type": "code",
   "execution_count": 3,
   "metadata": {},
   "outputs": [
    {
     "name": "stdout",
     "output_type": "stream",
     "text": [
      "Tests Passed\n"
     ]
    }
   ],
   "source": [
    "def text_to_ids(source_text, target_text, source_vocab_to_int, target_vocab_to_int):\n",
    "    \"\"\"\n",
    "    Convert source and target text to proper word ids\n",
    "    :param source_text: String that contains all the source text.\n",
    "    :param target_text: String that contains all the target text.\n",
    "    :param source_vocab_to_int: Dictionary to go from the source words to an id\n",
    "    :param target_vocab_to_int: Dictionary to go from the target words to an id\n",
    "    :return: A tuple of lists (source_id_text, target_id_text)\n",
    "    \"\"\"\n",
    "    # TODO: Implement Function\n",
    "    sentences = source_text.split('\\n')\n",
    "    source_id_text = [[source_vocab_to_int[word] for word in line.split()] for line in sentences]\n",
    "    sentences = target_text.split('\\n')\n",
    "    target_id_text = [[target_vocab_to_int[word] for word in line.split()]+[target_vocab_to_int['<EOS>']] for line in sentences]\n",
    "    return source_id_text, target_id_text\n",
    "\n",
    "\"\"\"\n",
    "DON'T MODIFY ANYTHING IN THIS CELL THAT IS BELOW THIS LINE\n",
    "\"\"\"\n",
    "tests.test_text_to_ids(text_to_ids)"
   ]
  },
  {
   "cell_type": "markdown",
   "metadata": {},
   "source": [
    "### Preprocess all the data and save it\n",
    "Running the code cell below will preprocess all the data and save it to file."
   ]
  },
  {
   "cell_type": "code",
   "execution_count": 4,
   "metadata": {
    "collapsed": true
   },
   "outputs": [],
   "source": [
    "\"\"\"\n",
    "DON'T MODIFY ANYTHING IN THIS CELL\n",
    "\"\"\"\n",
    "helper.preprocess_and_save_data(source_path, target_path, text_to_ids)"
   ]
  },
  {
   "cell_type": "markdown",
   "metadata": {},
   "source": [
    "# Check Point\n",
    "This is your first checkpoint. If you ever decide to come back to this notebook or have to restart the notebook, you can start from here. The preprocessed data has been saved to disk."
   ]
  },
  {
   "cell_type": "code",
   "execution_count": 5,
   "metadata": {
    "collapsed": true
   },
   "outputs": [],
   "source": [
    "\"\"\"\n",
    "DON'T MODIFY ANYTHING IN THIS CELL\n",
    "\"\"\"\n",
    "import numpy as np\n",
    "import helper\n",
    "\n",
    "(source_int_text, target_int_text), (source_vocab_to_int, target_vocab_to_int), _ = helper.load_preprocess()"
   ]
  },
  {
   "cell_type": "markdown",
   "metadata": {},
   "source": [
    "### Check the Version of TensorFlow and Access to GPU\n",
    "This will check to make sure you have the correct version of TensorFlow and access to a GPU"
   ]
  },
  {
   "cell_type": "code",
   "execution_count": 6,
   "metadata": {},
   "outputs": [
    {
     "name": "stdout",
     "output_type": "stream",
     "text": [
      "TensorFlow Version: 1.1.0\n"
     ]
    },
    {
     "name": "stderr",
     "output_type": "stream",
     "text": [
      "/Users/Neo/anaconda/envs/p44/lib/python3.5/site-packages/ipykernel_launcher.py:15: UserWarning: No GPU found. Please use a GPU to train your neural network.\n",
      "  from ipykernel import kernelapp as app\n"
     ]
    }
   ],
   "source": [
    "\"\"\"\n",
    "DON'T MODIFY ANYTHING IN THIS CELL\n",
    "\"\"\"\n",
    "from distutils.version import LooseVersion\n",
    "import warnings\n",
    "import tensorflow as tf\n",
    "from tensorflow.python.layers.core import Dense\n",
    "\n",
    "# Check TensorFlow Version\n",
    "assert LooseVersion(tf.__version__) >= LooseVersion('1.1'), 'Please use TensorFlow version 1.1 or newer'\n",
    "print('TensorFlow Version: {}'.format(tf.__version__))\n",
    "\n",
    "# Check for a GPU\n",
    "if not tf.test.gpu_device_name():\n",
    "    warnings.warn('No GPU found. Please use a GPU to train your neural network.')\n",
    "else:\n",
    "    print('Default GPU Device: {}'.format(tf.test.gpu_device_name()))"
   ]
  },
  {
   "cell_type": "markdown",
   "metadata": {},
   "source": [
    "## Build the Neural Network\n",
    "You'll build the components necessary to build a Sequence-to-Sequence model by implementing the following functions below:\n",
    "- `model_inputs`\n",
    "- `process_decoder_input`\n",
    "- `encoding_layer`\n",
    "- `decoding_layer_train`\n",
    "- `decoding_layer_infer`\n",
    "- `decoding_layer`\n",
    "- `seq2seq_model`\n",
    "\n",
    "### Input\n",
    "Implement the `model_inputs()` function to create TF Placeholders for the Neural Network. It should create the following placeholders:\n",
    "\n",
    "- Input text placeholder named \"input\" using the TF Placeholder name parameter with rank 2.\n",
    "- Targets placeholder with rank 2.\n",
    "- Learning rate placeholder with rank 0.\n",
    "- Keep probability placeholder named \"keep_prob\" using the TF Placeholder name parameter with rank 0.\n",
    "- Target sequence length placeholder named \"target_sequence_length\" with rank 1\n",
    "- Max target sequence length tensor named \"max_target_len\" getting its value from applying tf.reduce_max on the target_sequence_length placeholder. Rank 0.\n",
    "- Source sequence length placeholder named \"source_sequence_length\" with rank 1\n",
    "\n",
    "Return the placeholders in the following the tuple (input, targets, learning rate, keep probability, target sequence length, max target sequence length, source sequence length)"
   ]
  },
  {
   "cell_type": "code",
   "execution_count": 7,
   "metadata": {},
   "outputs": [
    {
     "name": "stdout",
     "output_type": "stream",
     "text": [
      "Tests Passed\n"
     ]
    }
   ],
   "source": [
    "def model_inputs():\n",
    "    \"\"\"\n",
    "    Create TF Placeholders for input, targets, learning rate, and lengths of source and target sequences.\n",
    "    :return: Tuple (input, targets, learning rate, keep probability, target sequence length,\n",
    "    max target sequence length, source sequence length)\n",
    "    \"\"\"\n",
    "    # TODO: Implement Function\n",
    "    input = tf.placeholder(dtype=tf.int32, shape=(None, None), name=\"input\")\n",
    "    targets = tf.placeholder(dtype=tf.int32, shape=(None, None), name=\"targets\")\n",
    "    lr = tf.placeholder(dtype=tf.float32, shape=(None), name=\"learnrate\")\n",
    "    keep_prob = tf.placeholder(dtype=tf.float32, shape=(None), name=\"keep_prob\")\n",
    "    target_seq_len = tf.placeholder(dtype=tf.int32, shape=(None, ), name=\"target_sequence_length\")\n",
    "    max_target_len = tf.reduce_max(target_seq_len, name=\"max_target_len\")\n",
    "    source_seq_len = tf.placeholder(dtype=tf.int32, shape=(None, ), name=\"source_sequence_length\")\n",
    "    return input, targets, lr, keep_prob, target_seq_len, max_target_len, source_seq_len\n",
    "    \n",
    "\n",
    "\"\"\"\n",
    "DON'T MODIFY ANYTHING IN THIS CELL THAT IS BELOW THIS LINE\n",
    "\"\"\"\n",
    "tests.test_model_inputs(model_inputs)"
   ]
  },
  {
   "cell_type": "markdown",
   "metadata": {},
   "source": [
    "### Process Decoder Input\n",
    "Implement `process_decoder_input` by removing the last word id from each batch in `target_data` and concat the GO ID to the begining of each batch."
   ]
  },
  {
   "cell_type": "code",
   "execution_count": 8,
   "metadata": {},
   "outputs": [
    {
     "name": "stdout",
     "output_type": "stream",
     "text": [
      "Tests Passed\n"
     ]
    }
   ],
   "source": [
    "def process_decoder_input(target_data, target_vocab_to_int, batch_size):\n",
    "    \"\"\"\n",
    "    Preprocess target data for encoding\n",
    "    :param target_data: Target Placehoder\n",
    "    :param target_vocab_to_int: Dictionary to go from the target words to an id\n",
    "    :param batch_size: Batch Size\n",
    "    :return: Preprocessed target data\n",
    "    \"\"\"\n",
    "    # TODO: Implement Function\n",
    "    x = tf.strided_slice(target_data, [0,0], [batch_size, -1], [1,1])\n",
    "    target_data = tf.concat([tf.fill([batch_size, 1], target_vocab_to_int['<GO>']), x], 1)\n",
    "    return target_data\n",
    "\n",
    "\"\"\"\n",
    "DON'T MODIFY ANYTHING IN THIS CELL THAT IS BELOW THIS LINE\n",
    "\"\"\"\n",
    "tests.test_process_encoding_input(process_decoder_input)"
   ]
  },
  {
   "cell_type": "markdown",
   "metadata": {},
   "source": [
    "### Encoding\n",
    "Implement `encoding_layer()` to create a Encoder RNN layer:\n",
    " * Embed the encoder input using [`tf.contrib.layers.embed_sequence`](https://www.tensorflow.org/api_docs/python/tf/contrib/layers/embed_sequence)\n",
    " * Construct a [stacked](https://github.com/tensorflow/tensorflow/blob/6947f65a374ebf29e74bb71e36fd82760056d82c/tensorflow/docs_src/tutorials/recurrent.md#stacking-multiple-lstms) [`tf.contrib.rnn.LSTMCell`](https://www.tensorflow.org/api_docs/python/tf/contrib/rnn/LSTMCell) wrapped in a [`tf.contrib.rnn.DropoutWrapper`](https://www.tensorflow.org/api_docs/python/tf/contrib/rnn/DropoutWrapper)\n",
    " * Pass cell and embedded input to [`tf.nn.dynamic_rnn()`](https://www.tensorflow.org/api_docs/python/tf/nn/dynamic_rnn)"
   ]
  },
  {
   "cell_type": "code",
   "execution_count": 9,
   "metadata": {
    "scrolled": false
   },
   "outputs": [
    {
     "name": "stdout",
     "output_type": "stream",
     "text": [
      "Tests Passed\n"
     ]
    }
   ],
   "source": [
    "from imp import reload\n",
    "reload(tests)\n",
    "\n",
    "def encoding_layer(rnn_inputs, rnn_size, num_layers, keep_prob, \n",
    "                   source_sequence_length, source_vocab_size, \n",
    "                   encoding_embedding_size):\n",
    "    \"\"\"\n",
    "    Create encoding layer\n",
    "    :param rnn_inputs: Inputs for the RNN\n",
    "    :param rnn_size: RNN Size\n",
    "    :param num_layers: Number of layers\n",
    "    :param keep_prob: Dropout keep probability\n",
    "    :param source_sequence_length: a list of the lengths of each sequence in the batch\n",
    "    :param source_vocab_size: vocabulary size of source data\n",
    "    :param encoding_embedding_size: embedding size of source data\n",
    "    :return: tuple (RNN output, RNN state)\n",
    "    \"\"\"\n",
    "    # TODO: Implement Function\n",
    "    embedded = tf.contrib.layers.embed_sequence(ids=rnn_inputs, vocab_size=source_vocab_size, embed_dim=encoding_embedding_size)    \n",
    "    gen_cell = lambda: tf.contrib.rnn.LSTMCell(num_units=rnn_size, initializer=tf.random_uniform_initializer(-0.1, 0.1, seed=2))    \n",
    "    cells = tf.contrib.rnn.MultiRNNCell(cells=[gen_cell() for _ in range(num_layers)]) # new version of [cell]*5\n",
    "    drop = tf.contrib.rnn.DropoutWrapper(cell=cells, output_keep_prob=keep_prob)\n",
    "    RNN_output, RNN_state = tf.nn.dynamic_rnn(cell=drop, inputs=embedded, dtype=tf.float32)\n",
    "    return RNN_output, RNN_state\n",
    "\n",
    "\"\"\"\n",
    "DON'T MODIFY ANYTHING IN THIS CELL THAT IS BELOW THIS LINE\n",
    "\"\"\"\n",
    "tests.test_encoding_layer(encoding_layer)"
   ]
  },
  {
   "cell_type": "markdown",
   "metadata": {},
   "source": [
    "### Decoding - Training\n",
    "Create a training decoding layer:\n",
    "* Create a [`tf.contrib.seq2seq.TrainingHelper`](https://www.tensorflow.org/api_docs/python/tf/contrib/seq2seq/TrainingHelper) \n",
    "* Create a [`tf.contrib.seq2seq.BasicDecoder`](https://www.tensorflow.org/api_docs/python/tf/contrib/seq2seq/BasicDecoder)\n",
    "* Obtain the decoder outputs from [`tf.contrib.seq2seq.dynamic_decode`](https://www.tensorflow.org/api_docs/python/tf/contrib/seq2seq/dynamic_decode)"
   ]
  },
  {
   "cell_type": "code",
   "execution_count": 10,
   "metadata": {},
   "outputs": [
    {
     "name": "stdout",
     "output_type": "stream",
     "text": [
      "Tests Passed\n"
     ]
    }
   ],
   "source": [
    "\n",
    "def decoding_layer_train(encoder_state, dec_cell, dec_embed_input, \n",
    "                         target_sequence_length, max_summary_length, \n",
    "                         output_layer, keep_prob):\n",
    "    \"\"\"\n",
    "    Create a decoding layer for training\n",
    "    :param encoder_state: Encoder State\n",
    "    :param dec_cell: Decoder RNN Cell\n",
    "    :param dec_embed_input: Decoder embedded input\n",
    "    :param target_sequence_length: The lengths of each sequence in the target batch\n",
    "    :param max_summary_length: The length of the longest sequence in the batch\n",
    "    :param output_layer: Function to apply the output layer\n",
    "    :param keep_prob: Dropout keep probability\n",
    "    :return: BasicDecoderOutput containing training logits and sample_id\n",
    "    \"\"\"\n",
    "    # TODO: Implement Function\n",
    "    training_helper = tf.contrib.seq2seq.TrainingHelper(inputs=dec_embed_input, sequence_length=target_sequence_length, time_major=False)\n",
    "    \n",
    "    decoder = tf.contrib.seq2seq.BasicDecoder(cell=dec_cell, helper=training_helper,\n",
    "                                                initial_state=encoder_state, output_layer=output_layer)\n",
    "    training_decoder_output, _ = tf.contrib.seq2seq.dynamic_decode(decoder, impute_finished=True,\n",
    "                                               maximum_iterations=max_summary_length)\n",
    "    return training_decoder_output\n",
    "\n",
    "\n",
    "\"\"\"\n",
    "DON'T MODIFY ANYTHING IN THIS CELL THAT IS BELOW THIS LINE\n",
    "\"\"\"\n",
    "tests.test_decoding_layer_train(decoding_layer_train)"
   ]
  },
  {
   "cell_type": "markdown",
   "metadata": {},
   "source": [
    "### Decoding - Inference\n",
    "Create inference decoder:\n",
    "* Create a [`tf.contrib.seq2seq.GreedyEmbeddingHelper`](https://www.tensorflow.org/api_docs/python/tf/contrib/seq2seq/GreedyEmbeddingHelper)\n",
    "* Create a [`tf.contrib.seq2seq.BasicDecoder`](https://www.tensorflow.org/api_docs/python/tf/contrib/seq2seq/BasicDecoder)\n",
    "* Obtain the decoder outputs from [`tf.contrib.seq2seq.dynamic_decode`](https://www.tensorflow.org/api_docs/python/tf/contrib/seq2seq/dynamic_decode)"
   ]
  },
  {
   "cell_type": "code",
   "execution_count": 11,
   "metadata": {
    "scrolled": true
   },
   "outputs": [
    {
     "name": "stdout",
     "output_type": "stream",
     "text": [
      "Tests Passed\n"
     ]
    }
   ],
   "source": [
    "def decoding_layer_infer(encoder_state, dec_cell, dec_embeddings, start_of_sequence_id,\n",
    "                         end_of_sequence_id, max_target_sequence_length,\n",
    "                         vocab_size, output_layer, batch_size, keep_prob):\n",
    "    \"\"\"\n",
    "    Create a decoding layer for inference\n",
    "    :param encoder_state: Encoder state\n",
    "    :param dec_cell: Decoder RNN Cell\n",
    "    :param dec_embeddings: Decoder embeddings\n",
    "    :param start_of_sequence_id: GO ID\n",
    "    :param end_of_sequence_id: EOS Id\n",
    "    :param max_target_sequence_length: Maximum length of target sequences\n",
    "    :param vocab_size: Size of decoder/target vocabulary\n",
    "    :param decoding_scope: TenorFlow Variable Scope for decoding\n",
    "    :param output_layer: Function to apply the output layer\n",
    "    :param batch_size: Batch size\n",
    "    :param keep_prob: Dropout keep probability\n",
    "    :return: BasicDecoderOutput containing inference logits and sample_id\n",
    "    \"\"\"\n",
    "    # TODO: Implement Function\n",
    "    start_tokens = tf.tile(tf.constant([start_of_sequence_id], dtype=tf.int32), [batch_size], name='start_tokens')\n",
    "    inference_helper = tf.contrib.seq2seq.GreedyEmbeddingHelper(dec_embeddings,\n",
    "                                        start_tokens, end_of_sequence_id)\n",
    "\n",
    "    # Basic decoder\n",
    "    inference_decoder = tf.contrib.seq2seq.BasicDecoder(dec_cell,\n",
    "                                        inference_helper, encoder_state, output_layer)\n",
    "\n",
    "    # Perform dynamic decoding using the decoder\n",
    "    inference_decoder_output, _ = tf.contrib.seq2seq.dynamic_decode(inference_decoder,\n",
    "                                        impute_finished=True,\n",
    "                                        maximum_iterations=max_target_sequence_length)\n",
    "    \n",
    "    return inference_decoder_output\n",
    "\n",
    "\n",
    "\"\"\"\n",
    "DON'T MODIFY ANYTHING IN THIS CELL THAT IS BELOW THIS LINE\n",
    "\"\"\"\n",
    "tests.test_decoding_layer_infer(decoding_layer_infer)"
   ]
  },
  {
   "cell_type": "markdown",
   "metadata": {},
   "source": [
    "### Build the Decoding Layer\n",
    "Implement `decoding_layer()` to create a Decoder RNN layer.\n",
    "\n",
    "* Embed the target sequences\n",
    "* Construct the decoder LSTM cell (just like you constructed the encoder cell above)\n",
    "* Create an output layer to map the outputs of the decoder to the elements of our vocabulary\n",
    "* Use the your `decoding_layer_train(encoder_state, dec_cell, dec_embed_input, target_sequence_length, max_target_sequence_length, output_layer, keep_prob)` function to get the training logits.\n",
    "* Use your `decoding_layer_infer(encoder_state, dec_cell, dec_embeddings, start_of_sequence_id, end_of_sequence_id, max_target_sequence_length, vocab_size, output_layer, batch_size, keep_prob)` function to get the inference logits.\n",
    "\n",
    "Note: You'll need to use [tf.variable_scope](https://www.tensorflow.org/api_docs/python/tf/variable_scope) to share variables between training and inference."
   ]
  },
  {
   "cell_type": "code",
   "execution_count": 12,
   "metadata": {},
   "outputs": [
    {
     "name": "stdout",
     "output_type": "stream",
     "text": [
      "Tests Passed\n"
     ]
    }
   ],
   "source": [
    "def decoding_layer(dec_input, encoder_state,\n",
    "                   target_sequence_length, max_target_sequence_length,\n",
    "                   rnn_size,\n",
    "                   num_layers, target_vocab_to_int, target_vocab_size,\n",
    "                   batch_size, keep_prob, decoding_embedding_size):\n",
    "    \"\"\"\n",
    "    Create decoding layer\n",
    "    :param dec_input: Decoder input\n",
    "    :param encoder_state: Encoder state\n",
    "    :param target_sequence_length: The lengths of each sequence in the target batch\n",
    "    :param max_target_sequence_length: Maximum length of target sequences\n",
    "    :param rnn_size: RNN Size\n",
    "    :param num_layers: Number of layers\n",
    "    :param target_vocab_to_int: Dictionary to go from the target words to an id\n",
    "    :param target_vocab_size: Size of target vocabulary\n",
    "    :param batch_size: The size of the batch\n",
    "    :param keep_prob: Dropout keep probability\n",
    "    :param decoding_embedding_size: Decoding embedding size\n",
    "    :return: Tuple of (Training BasicDecoderOutput, Inference BasicDecoderOutput)\n",
    "    \"\"\"\n",
    "    # TODO: Implement Function\n",
    "\n",
    "    # embed target sequences\n",
    "    dec_embeddings = tf.Variable(tf.random_uniform([target_vocab_size, decoding_embedding_size]))\n",
    "    dec_embed_input = tf.nn.embedding_lookup(dec_embeddings, dec_input)\n",
    "    \n",
    "    # decoder lstm cell\n",
    "    def make_cell(rnn_size):\n",
    "        return tf.contrib.rnn.LSTMCell(rnn_size, initializer=tf.random_uniform_initializer(-0.1, 0.1, seed=2))\n",
    "\n",
    "    dec_cell = tf.contrib.rnn.MultiRNNCell([make_cell(rnn_size) for _ in range(num_layers)])\n",
    "    \n",
    "    # output layer\n",
    "    output_layer = Dense(target_vocab_size,\n",
    "                         kernel_initializer = tf.truncated_normal_initializer(mean=0.0, stddev=0.1))\n",
    "    \n",
    "    # training logits\n",
    "    with tf.variable_scope(\"decode\"):\n",
    "        training_logits = decoding_layer_train(encoder_state, dec_cell, dec_embed_input,\n",
    "                                             target_sequence_length, max_target_sequence_length,\n",
    "                                             output_layer, keep_prob)\n",
    "    \n",
    "    # inference logits\n",
    "    with tf.variable_scope(\"decode\", reuse=True):\n",
    "        inference_logits = decoding_layer_infer(encoder_state, dec_cell, dec_embeddings, target_vocab_to_int['<GO>'],\n",
    "                                             target_vocab_to_int['<EOS>'], max_target_sequence_length,\n",
    "                                             target_vocab_size, output_layer, batch_size, keep_prob)\n",
    "    \n",
    "    return training_logits, inference_logits   \n",
    "\n",
    "\n",
    "\n",
    "\"\"\"\n",
    "DON'T MODIFY ANYTHING IN THIS CELL THAT IS BELOW THIS LINE\n",
    "\"\"\"\n",
    "tests.test_decoding_layer(decoding_layer)"
   ]
  },
  {
   "cell_type": "markdown",
   "metadata": {},
   "source": [
    "### Build the Neural Network\n",
    "Apply the functions you implemented above to:\n",
    "\n",
    "- Encode the input using your `encoding_layer(rnn_inputs, rnn_size, num_layers, keep_prob,  source_sequence_length, source_vocab_size, encoding_embedding_size)`.\n",
    "- Process target data using your `process_decoder_input(target_data, target_vocab_to_int, batch_size)` function.\n",
    "- Decode the encoded input using your `decoding_layer(dec_input, enc_state, target_sequence_length, max_target_sentence_length, rnn_size, num_layers, target_vocab_to_int, target_vocab_size, batch_size, keep_prob, dec_embedding_size)` function."
   ]
  },
  {
   "cell_type": "code",
   "execution_count": 28,
   "metadata": {},
   "outputs": [
    {
     "name": "stdout",
     "output_type": "stream",
     "text": [
      "Tests Passed\n"
     ]
    }
   ],
   "source": [
    "def seq2seq_model(input_data, target_data, keep_prob, batch_size,\n",
    "                  source_sequence_length, target_sequence_length,\n",
    "                  max_target_sentence_length,\n",
    "                  source_vocab_size, target_vocab_size,\n",
    "                  enc_embedding_size, dec_embedding_size,\n",
    "                  rnn_size, num_layers, target_vocab_to_int):\n",
    "    \"\"\"\n",
    "    Build the Sequence-to-Sequence part of the neural network\n",
    "    :param input_data: Input placeholder\n",
    "    :param target_data: Target placeholder\n",
    "    :param keep_prob: Dropout keep probability placeholder\n",
    "    :param batch_size: Batch Size\n",
    "    :param source_sequence_length: Sequence Lengths of source sequences in the batch\n",
    "    :param target_sequence_length: Sequence Lengths of target sequences in the batch\n",
    "    :param source_vocab_size: Source vocabulary size\n",
    "    :param target_vocab_size: Target vocabulary size\n",
    "    :param enc_embedding_size: Decoder embedding size\n",
    "    :param dec_embedding_size: Encoder embedding size\n",
    "    :param rnn_size: RNN Size\n",
    "    :param num_layers: Number of layers\n",
    "    :param target_vocab_to_int: Dictionary to go from the target words to an id\n",
    "    :return: Tuple of (Training BasicDecoderOutput, Inference BasicDecoderOutput)\n",
    "    \"\"\"\n",
    "    # TODO: Implement Function  \n",
    "    #Encode the input using your encoding_layer(rnn_inputs, rnn_size, num_layers, keep_prob,  source_sequence_length, source_vocab_size, encoding_embedding_size).\n",
    "    enc_output, enc_state = encoding_layer(input_data, rnn_size, num_layers, keep_prob, \n",
    "                   source_sequence_length, source_vocab_size, \n",
    "                   enc_embedding_size)\n",
    "    \n",
    "    #Process target data using your process_decoder_input(target_data, target_vocab_to_int, batch_size) function.\n",
    "    dec_in = process_decoder_input(target_data, target_vocab_to_int, batch_size)\n",
    "    \n",
    "    #Apply embedding to the target data for the decoder.\n",
    "    #dec_in = tf.contrib.layers.embed_sequence(dec_in, target_vocab_size, dec_embedding_size)\n",
    "    \n",
    "    #Decode the encoded input using your decoding_layer(dec_input, enc_state, target_sequence_length, max_target_sentence_length, rnn_size, num_layers, target_vocab_to_int, target_vocab_size, batch_size, keep_prob, dec_embedding_size) function.\n",
    "    training, inference = decoding_layer(dec_in, enc_state, target_sequence_length, max_target_sentence_length,\n",
    "                                rnn_size, num_layers, target_vocab_to_int, target_vocab_size, batch_size,\n",
    "                                keep_prob, dec_embedding_size)\n",
    "\n",
    "    return training, inference\n",
    "\n",
    "\"\"\"\n",
    "DON'T MODIFY ANYTHING IN THIS CELL THAT IS BELOW THIS LINE\n",
    "\"\"\"\n",
    "tests.test_seq2seq_model(seq2seq_model)"
   ]
  },
  {
   "cell_type": "markdown",
   "metadata": {},
   "source": [
    "## Neural Network Training\n",
    "### Hyperparameters\n",
    "Tune the following parameters:\n",
    "\n",
    "- Set `epochs` to the number of epochs.\n",
    "- Set `batch_size` to the batch size.\n",
    "- Set `rnn_size` to the size of the RNNs.\n",
    "- Set `num_layers` to the number of layers.\n",
    "- Set `encoding_embedding_size` to the size of the embedding for the encoder.\n",
    "- Set `decoding_embedding_size` to the size of the embedding for the decoder.\n",
    "- Set `learning_rate` to the learning rate.\n",
    "- Set `keep_probability` to the Dropout keep probability\n",
    "- Set `display_step` to state how many steps between each debug output statement"
   ]
  },
  {
   "cell_type": "code",
   "execution_count": 29,
   "metadata": {
    "collapsed": true
   },
   "outputs": [],
   "source": [
    "# Number of Epochs\n",
    "epochs = 4\n",
    "# Batch Size\n",
    "batch_size = 256\n",
    "# RNN Size\n",
    "rnn_size = 512\n",
    "# Number of Layers\n",
    "num_layers = 3\n",
    "# Embedding Size\n",
    "encoding_embedding_size = 256\n",
    "decoding_embedding_size = 256\n",
    "# Learning Rate\n",
    "learning_rate = 0.001\n",
    "# Dropout Keep Probability\n",
    "keep_probability = 0.8\n",
    "# Display every n-th step\n",
    "display_step = 10"
   ]
  },
  {
   "cell_type": "markdown",
   "metadata": {},
   "source": [
    "### Build the Graph\n",
    "Build the graph using the neural network you implemented."
   ]
  },
  {
   "cell_type": "code",
   "execution_count": 30,
   "metadata": {
    "collapsed": true
   },
   "outputs": [],
   "source": [
    "\"\"\"\n",
    "DON'T MODIFY ANYTHING IN THIS CELL\n",
    "\"\"\"\n",
    "save_path = 'checkpoints/dev'\n",
    "(source_int_text, target_int_text), (source_vocab_to_int, target_vocab_to_int), _ = helper.load_preprocess()\n",
    "max_target_sentence_length = max([len(sentence) for sentence in source_int_text])\n",
    "\n",
    "train_graph = tf.Graph()\n",
    "with train_graph.as_default():\n",
    "    input_data, targets, lr, keep_prob, target_sequence_length, max_target_sequence_length, source_sequence_length = model_inputs()\n",
    "\n",
    "    #sequence_length = tf.placeholder_with_default(max_target_sentence_length, None, name='sequence_length')\n",
    "    input_shape = tf.shape(input_data)\n",
    "\n",
    "    train_logits, inference_logits = seq2seq_model(tf.reverse(input_data, [-1]),\n",
    "                                                   targets,\n",
    "                                                   keep_prob,\n",
    "                                                   batch_size,\n",
    "                                                   source_sequence_length,\n",
    "                                                   target_sequence_length,\n",
    "                                                   max_target_sequence_length,\n",
    "                                                   len(source_vocab_to_int),\n",
    "                                                   len(target_vocab_to_int),\n",
    "                                                   encoding_embedding_size,\n",
    "                                                   decoding_embedding_size,\n",
    "                                                   rnn_size,\n",
    "                                                   num_layers,\n",
    "                                                   target_vocab_to_int)\n",
    "\n",
    "\n",
    "    training_logits = tf.identity(train_logits.rnn_output, name='logits')\n",
    "    inference_logits = tf.identity(inference_logits.sample_id, name='predictions')\n",
    "\n",
    "    masks = tf.sequence_mask(target_sequence_length, max_target_sequence_length, dtype=tf.float32, name='masks')\n",
    "\n",
    "    with tf.name_scope(\"optimization\"):\n",
    "        # Loss function\n",
    "        cost = tf.contrib.seq2seq.sequence_loss(\n",
    "            training_logits,\n",
    "            targets,\n",
    "            masks)\n",
    "\n",
    "        # Optimizer\n",
    "        optimizer = tf.train.AdamOptimizer(lr)\n",
    "\n",
    "        # Gradient Clipping\n",
    "        gradients = optimizer.compute_gradients(cost)\n",
    "        capped_gradients = [(tf.clip_by_value(grad, -1., 1.), var) for grad, var in gradients if grad is not None]\n",
    "        train_op = optimizer.apply_gradients(capped_gradients)\n"
   ]
  },
  {
   "cell_type": "markdown",
   "metadata": {},
   "source": [
    "Batch and pad the source and target sequences"
   ]
  },
  {
   "cell_type": "code",
   "execution_count": null,
   "metadata": {
    "collapsed": true
   },
   "outputs": [],
   "source": [
    "\"\"\"\n",
    "DON'T MODIFY ANYTHING IN THIS CELL\n",
    "\"\"\"\n",
    "def pad_sentence_batch(sentence_batch, pad_int):\n",
    "    \"\"\"Pad sentences with <PAD> so that each sentence of a batch has the same length\"\"\"\n",
    "    max_sentence = max([len(sentence) for sentence in sentence_batch])\n",
    "    return [sentence + [pad_int] * (max_sentence - len(sentence)) for sentence in sentence_batch]\n",
    "\n",
    "\n",
    "def get_batches(sources, targets, batch_size, source_pad_int, target_pad_int):\n",
    "    \"\"\"Batch targets, sources, and the lengths of their sentences together\"\"\"\n",
    "    for batch_i in range(0, len(sources)//batch_size):\n",
    "        start_i = batch_i * batch_size\n",
    "\n",
    "        # Slice the right amount for the batch\n",
    "        sources_batch = sources[start_i:start_i + batch_size]\n",
    "        targets_batch = targets[start_i:start_i + batch_size]\n",
    "\n",
    "        # Pad\n",
    "        pad_sources_batch = np.array(pad_sentence_batch(sources_batch, source_pad_int))\n",
    "        pad_targets_batch = np.array(pad_sentence_batch(targets_batch, target_pad_int))\n",
    "\n",
    "        # Need the lengths for the _lengths parameters\n",
    "        pad_targets_lengths = []\n",
    "        for target in pad_targets_batch:\n",
    "            pad_targets_lengths.append(len(target))\n",
    "\n",
    "        pad_source_lengths = []\n",
    "        for source in pad_sources_batch:\n",
    "            pad_source_lengths.append(len(source))\n",
    "\n",
    "        yield pad_sources_batch, pad_targets_batch, pad_source_lengths, pad_targets_lengths\n"
   ]
  },
  {
   "cell_type": "markdown",
   "metadata": {},
   "source": [
    "### Train\n",
    "Train the neural network on the preprocessed data. If you have a hard time getting a good loss, check the forums to see if anyone is having the same problem."
   ]
  },
  {
   "cell_type": "code",
   "execution_count": null,
   "metadata": {
    "scrolled": true
   },
   "outputs": [
    {
     "name": "stdout",
     "output_type": "stream",
     "text": [
      "Epoch   0 Batch   10/538 - Train Accuracy: 0.3457, Validation Accuracy: 0.4208, Loss: 3.1266\n",
      "Epoch   0 Batch   20/538 - Train Accuracy: 0.4338, Validation Accuracy: 0.4739, Loss: 2.4763\n",
      "Epoch   0 Batch   30/538 - Train Accuracy: 0.4313, Validation Accuracy: 0.4831, Loss: 2.2775\n",
      "Epoch   0 Batch   40/538 - Train Accuracy: 0.5128, Validation Accuracy: 0.5089, Loss: 1.8670\n",
      "Epoch   0 Batch   50/538 - Train Accuracy: 0.4898, Validation Accuracy: 0.5343, Loss: 1.9541\n",
      "Epoch   0 Batch   60/538 - Train Accuracy: 0.4611, Validation Accuracy: 0.5154, Loss: 1.7775\n",
      "Epoch   0 Batch   70/538 - Train Accuracy: 0.4762, Validation Accuracy: 0.5153, Loss: 1.6710\n",
      "Epoch   0 Batch   80/538 - Train Accuracy: 0.4826, Validation Accuracy: 0.5353, Loss: 1.6381\n",
      "Epoch   0 Batch   90/538 - Train Accuracy: 0.5160, Validation Accuracy: 0.5415, Loss: 1.4781\n",
      "Epoch   0 Batch  100/538 - Train Accuracy: 0.5266, Validation Accuracy: 0.5549, Loss: 1.3807\n",
      "Epoch   0 Batch  110/538 - Train Accuracy: 0.5184, Validation Accuracy: 0.5472, Loss: 1.3512\n",
      "Epoch   0 Batch  120/538 - Train Accuracy: 0.5180, Validation Accuracy: 0.5494, Loss: 1.2523\n",
      "Epoch   0 Batch  130/538 - Train Accuracy: 0.4916, Validation Accuracy: 0.5167, Loss: 1.2190\n",
      "Epoch   0 Batch  140/538 - Train Accuracy: 0.4455, Validation Accuracy: 0.5259, Loss: 1.2702\n",
      "Epoch   0 Batch  150/538 - Train Accuracy: 0.5143, Validation Accuracy: 0.5471, Loss: 1.1107\n",
      "Epoch   0 Batch  160/538 - Train Accuracy: 0.5041, Validation Accuracy: 0.5460, Loss: 1.0099\n",
      "Epoch   0 Batch  170/538 - Train Accuracy: 0.5541, Validation Accuracy: 0.5694, Loss: 0.9810\n",
      "Epoch   0 Batch  180/538 - Train Accuracy: 0.5711, Validation Accuracy: 0.5701, Loss: 0.9455\n",
      "Epoch   0 Batch  190/538 - Train Accuracy: 0.5662, Validation Accuracy: 0.5721, Loss: 0.9430\n",
      "Epoch   0 Batch  200/538 - Train Accuracy: 0.5443, Validation Accuracy: 0.5518, Loss: 0.8969\n",
      "Epoch   0 Batch  210/538 - Train Accuracy: 0.5634, Validation Accuracy: 0.5815, Loss: 0.8629\n",
      "Epoch   0 Batch  220/538 - Train Accuracy: 0.5489, Validation Accuracy: 0.5854, Loss: 0.8288\n",
      "Epoch   0 Batch  230/538 - Train Accuracy: 0.5666, Validation Accuracy: 0.5865, Loss: 0.8203\n",
      "Epoch   0 Batch  240/538 - Train Accuracy: 0.5650, Validation Accuracy: 0.5900, Loss: 0.8271\n",
      "Epoch   0 Batch  250/538 - Train Accuracy: 0.5748, Validation Accuracy: 0.5874, Loss: 0.7751\n",
      "Epoch   0 Batch  260/538 - Train Accuracy: 0.5848, Validation Accuracy: 0.5888, Loss: 0.7395\n",
      "Epoch   0 Batch  270/538 - Train Accuracy: 0.5727, Validation Accuracy: 0.5914, Loss: 0.7243\n",
      "Epoch   0 Batch  280/538 - Train Accuracy: 0.5887, Validation Accuracy: 0.5826, Loss: 0.6797\n",
      "Epoch   0 Batch  290/538 - Train Accuracy: 0.5896, Validation Accuracy: 0.5959, Loss: 0.6824\n",
      "Epoch   0 Batch  300/538 - Train Accuracy: 0.6140, Validation Accuracy: 0.5971, Loss: 0.6542\n",
      "Epoch   0 Batch  310/538 - Train Accuracy: 0.6127, Validation Accuracy: 0.6088, Loss: 0.6397\n",
      "Epoch   0 Batch  320/538 - Train Accuracy: 0.6269, Validation Accuracy: 0.6135, Loss: 0.6245\n",
      "Epoch   0 Batch  330/538 - Train Accuracy: 0.6257, Validation Accuracy: 0.6207, Loss: 0.6043\n",
      "Epoch   0 Batch  340/538 - Train Accuracy: 0.5801, Validation Accuracy: 0.6211, Loss: 0.6273\n",
      "Epoch   0 Batch  350/538 - Train Accuracy: 0.5854, Validation Accuracy: 0.5994, Loss: 0.5980\n",
      "Epoch   0 Batch  360/538 - Train Accuracy: 0.6271, Validation Accuracy: 0.6064, Loss: 0.5850\n",
      "Epoch   0 Batch  370/538 - Train Accuracy: 0.6088, Validation Accuracy: 0.6364, Loss: 0.5754\n",
      "Epoch   0 Batch  380/538 - Train Accuracy: 0.6242, Validation Accuracy: 0.6577, Loss: 0.5367\n",
      "Epoch   0 Batch  390/538 - Train Accuracy: 0.6722, Validation Accuracy: 0.6373, Loss: 0.5163\n",
      "Epoch   0 Batch  400/538 - Train Accuracy: 0.4321, Validation Accuracy: 0.4753, Loss: 1.8201\n",
      "Epoch   0 Batch  410/538 - Train Accuracy: 0.5314, Validation Accuracy: 0.5584, Loss: 0.9377\n",
      "Epoch   0 Batch  420/538 - Train Accuracy: 0.5627, Validation Accuracy: 0.5547, Loss: 0.7321\n",
      "Epoch   0 Batch  430/538 - Train Accuracy: 0.5814, Validation Accuracy: 0.5973, Loss: 0.6816\n",
      "Epoch   0 Batch  440/538 - Train Accuracy: 0.5979, Validation Accuracy: 0.6259, Loss: 0.6584\n",
      "Epoch   0 Batch  450/538 - Train Accuracy: 0.6378, Validation Accuracy: 0.6286, Loss: 0.5926\n",
      "Epoch   0 Batch  460/538 - Train Accuracy: 0.5995, Validation Accuracy: 0.6522, Loss: 0.5558\n",
      "Epoch   0 Batch  470/538 - Train Accuracy: 0.6503, Validation Accuracy: 0.6506, Loss: 0.5393\n",
      "Epoch   0 Batch  480/538 - Train Accuracy: 0.6350, Validation Accuracy: 0.6426, Loss: 0.5366\n",
      "Epoch   0 Batch  490/538 - Train Accuracy: 0.6220, Validation Accuracy: 0.6625, Loss: 0.5342\n",
      "Epoch   0 Batch  500/538 - Train Accuracy: 0.6587, Validation Accuracy: 0.6460, Loss: 0.4826\n",
      "Epoch   0 Batch  510/538 - Train Accuracy: 0.6700, Validation Accuracy: 0.6639, Loss: 0.5024\n",
      "Epoch   0 Batch  520/538 - Train Accuracy: 0.6398, Validation Accuracy: 0.6626, Loss: 0.5213\n",
      "Epoch   0 Batch  530/538 - Train Accuracy: 0.6559, Validation Accuracy: 0.6552, Loss: 0.5094\n",
      "Epoch   1 Batch   10/538 - Train Accuracy: 0.6186, Validation Accuracy: 0.6612, Loss: 0.5079\n",
      "Epoch   1 Batch   20/538 - Train Accuracy: 0.6473, Validation Accuracy: 0.6735, Loss: 0.4794\n",
      "Epoch   1 Batch   30/538 - Train Accuracy: 0.6637, Validation Accuracy: 0.6767, Loss: 0.4822\n",
      "Epoch   1 Batch   40/538 - Train Accuracy: 0.7054, Validation Accuracy: 0.6824, Loss: 0.4054\n",
      "Epoch   1 Batch   50/538 - Train Accuracy: 0.6650, Validation Accuracy: 0.6928, Loss: 0.4468\n",
      "Epoch   1 Batch   60/538 - Train Accuracy: 0.6771, Validation Accuracy: 0.6861, Loss: 0.4262\n",
      "Epoch   1 Batch   70/538 - Train Accuracy: 0.6869, Validation Accuracy: 0.6960, Loss: 0.4060\n",
      "Epoch   1 Batch   80/538 - Train Accuracy: 0.6580, Validation Accuracy: 0.6864, Loss: 0.4229\n",
      "Epoch   1 Batch   90/538 - Train Accuracy: 0.7063, Validation Accuracy: 0.6983, Loss: 0.4060\n",
      "Epoch   1 Batch  100/538 - Train Accuracy: 0.6926, Validation Accuracy: 0.7001, Loss: 0.3770\n",
      "Epoch   1 Batch  110/538 - Train Accuracy: 0.6924, Validation Accuracy: 0.6923, Loss: 0.3774\n",
      "Epoch   1 Batch  120/538 - Train Accuracy: 0.6920, Validation Accuracy: 0.6839, Loss: 0.3507\n",
      "Epoch   1 Batch  130/538 - Train Accuracy: 0.7323, Validation Accuracy: 0.7363, Loss: 0.3376\n",
      "Epoch   1 Batch  140/538 - Train Accuracy: 0.6961, Validation Accuracy: 0.7209, Loss: 0.3601\n",
      "Epoch   1 Batch  150/538 - Train Accuracy: 0.7254, Validation Accuracy: 0.7235, Loss: 0.3245\n",
      "Epoch   1 Batch  160/538 - Train Accuracy: 0.7247, Validation Accuracy: 0.7088, Loss: 0.3133\n",
      "Epoch   1 Batch  170/538 - Train Accuracy: 0.7450, Validation Accuracy: 0.7415, Loss: 0.3200\n",
      "Epoch   1 Batch  180/538 - Train Accuracy: 0.7543, Validation Accuracy: 0.7283, Loss: 0.3002\n",
      "Epoch   1 Batch  190/538 - Train Accuracy: 0.7320, Validation Accuracy: 0.7413, Loss: 0.3018\n",
      "Epoch   1 Batch  200/538 - Train Accuracy: 0.7719, Validation Accuracy: 0.7464, Loss: 0.2793\n",
      "Epoch   1 Batch  210/538 - Train Accuracy: 0.7561, Validation Accuracy: 0.7539, Loss: 0.2730\n",
      "Epoch   1 Batch  220/538 - Train Accuracy: 0.7483, Validation Accuracy: 0.7504, Loss: 0.2551\n",
      "Epoch   1 Batch  230/538 - Train Accuracy: 0.7654, Validation Accuracy: 0.7821, Loss: 0.2651\n",
      "Epoch   1 Batch  240/538 - Train Accuracy: 0.7760, Validation Accuracy: 0.7749, Loss: 0.2516\n",
      "Epoch   1 Batch  250/538 - Train Accuracy: 0.7760, Validation Accuracy: 0.7544, Loss: 0.2453\n",
      "Epoch   1 Batch  260/538 - Train Accuracy: 0.7569, Validation Accuracy: 0.7866, Loss: 0.2369\n",
      "Epoch   1 Batch  270/538 - Train Accuracy: 0.7947, Validation Accuracy: 0.7777, Loss: 0.2187\n",
      "Epoch   1 Batch  280/538 - Train Accuracy: 0.8158, Validation Accuracy: 0.7789, Loss: 0.2257\n",
      "Epoch   1 Batch  290/538 - Train Accuracy: 0.8057, Validation Accuracy: 0.7882, Loss: 0.2145\n",
      "Epoch   1 Batch  300/538 - Train Accuracy: 0.8099, Validation Accuracy: 0.7933, Loss: 0.1918\n",
      "Epoch   1 Batch  310/538 - Train Accuracy: 0.8668, Validation Accuracy: 0.8210, Loss: 0.1936\n",
      "Epoch   1 Batch  320/538 - Train Accuracy: 0.8603, Validation Accuracy: 0.8416, Loss: 0.1695\n",
      "Epoch   1 Batch  330/538 - Train Accuracy: 0.8460, Validation Accuracy: 0.8255, Loss: 0.1589\n",
      "Epoch   1 Batch  340/538 - Train Accuracy: 0.8629, Validation Accuracy: 0.8453, Loss: 0.1609\n",
      "Epoch   1 Batch  350/538 - Train Accuracy: 0.8763, Validation Accuracy: 0.8542, Loss: 0.1617\n",
      "Epoch   1 Batch  360/538 - Train Accuracy: 0.8508, Validation Accuracy: 0.8571, Loss: 0.1567\n"
     ]
    },
    {
     "name": "stdout",
     "output_type": "stream",
     "text": [
      "Epoch   1 Batch  370/538 - Train Accuracy: 0.8555, Validation Accuracy: 0.8677, Loss: 0.1440\n",
      "Epoch   1 Batch  380/538 - Train Accuracy: 0.8877, Validation Accuracy: 0.8688, Loss: 0.1202\n",
      "Epoch   1 Batch  390/538 - Train Accuracy: 0.8886, Validation Accuracy: 0.8642, Loss: 0.1158\n",
      "Epoch   1 Batch  400/538 - Train Accuracy: 0.8834, Validation Accuracy: 0.8709, Loss: 0.1238\n",
      "Epoch   1 Batch  410/538 - Train Accuracy: 0.8980, Validation Accuracy: 0.8881, Loss: 0.1227\n",
      "Epoch   1 Batch  420/538 - Train Accuracy: 0.9059, Validation Accuracy: 0.8780, Loss: 0.1075\n",
      "Epoch   1 Batch  430/538 - Train Accuracy: 0.8945, Validation Accuracy: 0.8862, Loss: 0.1022\n",
      "Epoch   1 Batch  440/538 - Train Accuracy: 0.8857, Validation Accuracy: 0.8851, Loss: 0.1080\n",
      "Epoch   1 Batch  460/538 - Train Accuracy: 0.8904, Validation Accuracy: 0.9022, Loss: 0.1008\n",
      "Epoch   1 Batch  470/538 - Train Accuracy: 0.8917, Validation Accuracy: 0.8709, Loss: 0.0873\n",
      "Epoch   1 Batch  480/538 - Train Accuracy: 0.9265, Validation Accuracy: 0.8912, Loss: 0.0838\n",
      "Epoch   1 Batch  490/538 - Train Accuracy: 0.9116, Validation Accuracy: 0.8928, Loss: 0.0816\n",
      "Epoch   1 Batch  500/538 - Train Accuracy: 0.9213, Validation Accuracy: 0.9098, Loss: 0.0704\n",
      "Epoch   1 Batch  510/538 - Train Accuracy: 0.9059, Validation Accuracy: 0.9071, Loss: 0.0734\n",
      "Epoch   1 Batch  520/538 - Train Accuracy: 0.8980, Validation Accuracy: 0.9139, Loss: 0.0765\n",
      "Epoch   1 Batch  530/538 - Train Accuracy: 0.8877, Validation Accuracy: 0.8951, Loss: 0.0816\n",
      "Epoch   2 Batch   10/538 - Train Accuracy: 0.9068, Validation Accuracy: 0.9013, Loss: 0.0741\n",
      "Epoch   2 Batch   20/538 - Train Accuracy: 0.9416, Validation Accuracy: 0.9171, Loss: 0.0683\n",
      "Epoch   2 Batch   30/538 - Train Accuracy: 0.9061, Validation Accuracy: 0.9112, Loss: 0.0705\n",
      "Epoch   2 Batch   40/538 - Train Accuracy: 0.9254, Validation Accuracy: 0.9148, Loss: 0.0551\n",
      "Epoch   2 Batch   50/538 - Train Accuracy: 0.9412, Validation Accuracy: 0.8876, Loss: 0.0580\n",
      "Epoch   2 Batch   60/538 - Train Accuracy: 0.9250, Validation Accuracy: 0.9174, Loss: 0.0620\n",
      "Epoch   2 Batch   70/538 - Train Accuracy: 0.9209, Validation Accuracy: 0.8862, Loss: 0.0594\n",
      "Epoch   2 Batch   80/538 - Train Accuracy: 0.9324, Validation Accuracy: 0.9167, Loss: 0.0614\n",
      "Epoch   2 Batch   90/538 - Train Accuracy: 0.9308, Validation Accuracy: 0.9025, Loss: 0.0624\n",
      "Epoch   2 Batch  100/538 - Train Accuracy: 0.9453, Validation Accuracy: 0.9205, Loss: 0.0482\n",
      "Epoch   2 Batch  110/538 - Train Accuracy: 0.9256, Validation Accuracy: 0.9215, Loss: 0.0541\n",
      "Epoch   2 Batch  120/538 - Train Accuracy: 0.9568, Validation Accuracy: 0.9199, Loss: 0.0414\n",
      "Epoch   2 Batch  130/538 - Train Accuracy: 0.9392, Validation Accuracy: 0.9256, Loss: 0.0493\n",
      "Epoch   2 Batch  140/538 - Train Accuracy: 0.9229, Validation Accuracy: 0.9082, Loss: 0.0660\n",
      "Epoch   2 Batch  150/538 - Train Accuracy: 0.9402, Validation Accuracy: 0.9228, Loss: 0.0463\n",
      "Epoch   2 Batch  160/538 - Train Accuracy: 0.9250, Validation Accuracy: 0.9281, Loss: 0.0449\n",
      "Epoch   2 Batch  170/538 - Train Accuracy: 0.9282, Validation Accuracy: 0.9158, Loss: 0.0497\n",
      "Epoch   2 Batch  180/538 - Train Accuracy: 0.9351, Validation Accuracy: 0.9148, Loss: 0.0499\n",
      "Epoch   2 Batch  190/538 - Train Accuracy: 0.9256, Validation Accuracy: 0.9283, Loss: 0.0618\n",
      "Epoch   2 Batch  200/538 - Train Accuracy: 0.9418, Validation Accuracy: 0.9098, Loss: 0.0425\n",
      "Epoch   2 Batch  210/538 - Train Accuracy: 0.9148, Validation Accuracy: 0.9318, Loss: 0.0490\n",
      "Epoch   2 Batch  220/538 - Train Accuracy: 0.9191, Validation Accuracy: 0.9233, Loss: 0.0508\n",
      "Epoch   2 Batch  230/538 - Train Accuracy: 0.9426, Validation Accuracy: 0.9281, Loss: 0.0441\n",
      "Epoch   2 Batch  240/538 - Train Accuracy: 0.9441, Validation Accuracy: 0.9320, Loss: 0.0473\n",
      "Epoch   2 Batch  250/538 - Train Accuracy: 0.9607, Validation Accuracy: 0.9318, Loss: 0.0433\n",
      "Epoch   2 Batch  260/538 - Train Accuracy: 0.9174, Validation Accuracy: 0.9391, Loss: 0.0462\n",
      "Epoch   2 Batch  270/538 - Train Accuracy: 0.9590, Validation Accuracy: 0.9348, Loss: 0.0401\n",
      "Epoch   2 Batch  280/538 - Train Accuracy: 0.9507, Validation Accuracy: 0.9354, Loss: 0.0373\n",
      "Epoch   2 Batch  290/538 - Train Accuracy: 0.9641, Validation Accuracy: 0.9407, Loss: 0.0389\n",
      "Epoch   2 Batch  300/538 - Train Accuracy: 0.9338, Validation Accuracy: 0.9368, Loss: 0.0419\n",
      "Epoch   2 Batch  310/538 - Train Accuracy: 0.9533, Validation Accuracy: 0.9487, Loss: 0.0457\n",
      "Epoch   2 Batch  320/538 - Train Accuracy: 0.9449, Validation Accuracy: 0.9439, Loss: 0.0355\n",
      "Epoch   2 Batch  330/538 - Train Accuracy: 0.9528, Validation Accuracy: 0.9137, Loss: 0.0354\n",
      "Epoch   2 Batch  340/538 - Train Accuracy: 0.9389, Validation Accuracy: 0.9407, Loss: 0.0382\n",
      "Epoch   2 Batch  350/538 - Train Accuracy: 0.9485, Validation Accuracy: 0.9473, Loss: 0.0418\n",
      "Epoch   2 Batch  360/538 - Train Accuracy: 0.9555, Validation Accuracy: 0.9510, Loss: 0.0344\n",
      "Epoch   2 Batch  370/538 - Train Accuracy: 0.9439, Validation Accuracy: 0.9336, Loss: 0.0368\n",
      "Epoch   2 Batch  380/538 - Train Accuracy: 0.9543, Validation Accuracy: 0.9441, Loss: 0.0317\n",
      "Epoch   2 Batch  390/538 - Train Accuracy: 0.9581, Validation Accuracy: 0.9371, Loss: 0.0311\n",
      "Epoch   2 Batch  400/538 - Train Accuracy: 0.9680, Validation Accuracy: 0.9268, Loss: 0.0334\n",
      "Epoch   2 Batch  410/538 - Train Accuracy: 0.9488, Validation Accuracy: 0.9387, Loss: 0.0378\n",
      "Epoch   2 Batch  420/538 - Train Accuracy: 0.9533, Validation Accuracy: 0.9455, Loss: 0.0394\n",
      "Epoch   2 Batch  430/538 - Train Accuracy: 0.9414, Validation Accuracy: 0.9515, Loss: 0.0346\n",
      "Epoch   2 Batch  440/538 - Train Accuracy: 0.9545, Validation Accuracy: 0.9503, Loss: 0.0352\n",
      "Epoch   2 Batch  450/538 - Train Accuracy: 0.9243, Validation Accuracy: 0.9482, Loss: 0.0421\n",
      "Epoch   2 Batch  460/538 - Train Accuracy: 0.9446, Validation Accuracy: 0.9489, Loss: 0.0356\n",
      "Epoch   2 Batch  470/538 - Train Accuracy: 0.9472, Validation Accuracy: 0.9453, Loss: 0.0324\n",
      "Epoch   2 Batch  480/538 - Train Accuracy: 0.9674, Validation Accuracy: 0.9457, Loss: 0.0283\n",
      "Epoch   2 Batch  490/538 - Train Accuracy: 0.9503, Validation Accuracy: 0.9403, Loss: 0.0299\n",
      "Epoch   2 Batch  500/538 - Train Accuracy: 0.9641, Validation Accuracy: 0.9467, Loss: 0.0232\n",
      "Epoch   2 Batch  510/538 - Train Accuracy: 0.9507, Validation Accuracy: 0.9551, Loss: 0.0285\n",
      "Epoch   2 Batch  520/538 - Train Accuracy: 0.9537, Validation Accuracy: 0.9254, Loss: 0.0308\n",
      "Epoch   2 Batch  530/538 - Train Accuracy: 0.9420, Validation Accuracy: 0.9604, Loss: 0.0360\n",
      "Epoch   3 Batch   10/538 - Train Accuracy: 0.9418, Validation Accuracy: 0.9478, Loss: 0.0310\n",
      "Epoch   3 Batch   20/538 - Train Accuracy: 0.9552, Validation Accuracy: 0.9515, Loss: 0.0329\n",
      "Epoch   3 Batch   30/538 - Train Accuracy: 0.9398, Validation Accuracy: 0.9473, Loss: 0.0338\n",
      "Epoch   3 Batch   40/538 - Train Accuracy: 0.9503, Validation Accuracy: 0.9428, Loss: 0.0257\n",
      "Epoch   3 Batch   50/538 - Train Accuracy: 0.9594, Validation Accuracy: 0.9496, Loss: 0.0274\n",
      "Epoch   3 Batch   60/538 - Train Accuracy: 0.9627, Validation Accuracy: 0.9554, Loss: 0.0299\n",
      "Epoch   3 Batch   70/538 - Train Accuracy: 0.9574, Validation Accuracy: 0.9508, Loss: 0.0237\n",
      "Epoch   3 Batch   80/538 - Train Accuracy: 0.9549, Validation Accuracy: 0.9549, Loss: 0.0266\n",
      "Epoch   3 Batch   90/538 - Train Accuracy: 0.9680, Validation Accuracy: 0.9526, Loss: 0.0339\n",
      "Epoch   3 Batch  100/538 - Train Accuracy: 0.9693, Validation Accuracy: 0.9448, Loss: 0.0232\n",
      "Epoch   3 Batch  110/538 - Train Accuracy: 0.9609, Validation Accuracy: 0.9638, Loss: 0.0270\n",
      "Epoch   3 Batch  120/538 - Train Accuracy: 0.9713, Validation Accuracy: 0.9437, Loss: 0.0205\n",
      "Epoch   3 Batch  130/538 - Train Accuracy: 0.9701, Validation Accuracy: 0.9483, Loss: 0.0275\n",
      "Epoch   3 Batch  140/538 - Train Accuracy: 0.9535, Validation Accuracy: 0.9423, Loss: 0.0348\n",
      "Epoch   3 Batch  150/538 - Train Accuracy: 0.9764, Validation Accuracy: 0.9556, Loss: 0.0238\n",
      "Epoch   3 Batch  160/538 - Train Accuracy: 0.9585, Validation Accuracy: 0.9498, Loss: 0.0245\n",
      "Epoch   3 Batch  170/538 - Train Accuracy: 0.9611, Validation Accuracy: 0.9455, Loss: 0.0284\n",
      "Epoch   3 Batch  180/538 - Train Accuracy: 0.9581, Validation Accuracy: 0.9474, Loss: 0.0261\n",
      "Epoch   3 Batch  190/538 - Train Accuracy: 0.9587, Validation Accuracy: 0.9480, Loss: 0.0320\n",
      "Epoch   3 Batch  200/538 - Train Accuracy: 0.9660, Validation Accuracy: 0.9409, Loss: 0.0207\n"
     ]
    },
    {
     "name": "stdout",
     "output_type": "stream",
     "text": [
      "Epoch   3 Batch  210/538 - Train Accuracy: 0.9531, Validation Accuracy: 0.9426, Loss: 0.0346\n",
      "Epoch   3 Batch  220/538 - Train Accuracy: 0.9299, Validation Accuracy: 0.9318, Loss: 0.1121\n",
      "Epoch   3 Batch  230/538 - Train Accuracy: 0.9529, Validation Accuracy: 0.9247, Loss: 0.0555\n",
      "Epoch   3 Batch  240/538 - Train Accuracy: 0.9545, Validation Accuracy: 0.9409, Loss: 0.0412\n",
      "Epoch   3 Batch  250/538 - Train Accuracy: 0.9244, Validation Accuracy: 0.9350, Loss: 0.0642\n",
      "Epoch   3 Batch  260/538 - Train Accuracy: 0.8676, Validation Accuracy: 0.8718, Loss: 0.1116\n",
      "Epoch   3 Batch  270/538 - Train Accuracy: 0.9105, Validation Accuracy: 0.9062, Loss: 0.0677\n",
      "Epoch   3 Batch  280/538 - Train Accuracy: 0.9474, Validation Accuracy: 0.9345, Loss: 0.0409\n",
      "Epoch   3 Batch  290/538 - Train Accuracy: 0.9705, Validation Accuracy: 0.9389, Loss: 0.0333\n",
      "Epoch   3 Batch  300/538 - Train Accuracy: 0.9581, Validation Accuracy: 0.9513, Loss: 0.0333\n",
      "Epoch   3 Batch  310/538 - Train Accuracy: 0.9578, Validation Accuracy: 0.9526, Loss: 0.0341\n",
      "Epoch   3 Batch  320/538 - Train Accuracy: 0.9621, Validation Accuracy: 0.9563, Loss: 0.0244\n",
      "Epoch   3 Batch  330/538 - Train Accuracy: 0.9637, Validation Accuracy: 0.9565, Loss: 0.0233\n",
      "Epoch   3 Batch  340/538 - Train Accuracy: 0.9619, Validation Accuracy: 0.9423, Loss: 0.0265\n",
      "Epoch   3 Batch  350/538 - Train Accuracy: 0.9660, Validation Accuracy: 0.9531, Loss: 0.0292\n",
      "Epoch   3 Batch  360/538 - Train Accuracy: 0.9656, Validation Accuracy: 0.9574, Loss: 0.0227\n",
      "Epoch   3 Batch  370/538 - Train Accuracy: 0.9658, Validation Accuracy: 0.9510, Loss: 0.0246\n",
      "Epoch   3 Batch  380/538 - Train Accuracy: 0.9693, Validation Accuracy: 0.9501, Loss: 0.0211\n",
      "Epoch   3 Batch  390/538 - Train Accuracy: 0.9648, Validation Accuracy: 0.9400, Loss: 0.0195\n",
      "Epoch   3 Batch  400/538 - Train Accuracy: 0.9688, Validation Accuracy: 0.9492, Loss: 0.0232\n",
      "Epoch   3 Batch  410/538 - Train Accuracy: 0.9693, Validation Accuracy: 0.9402, Loss: 0.0219\n",
      "Epoch   3 Batch  420/538 - Train Accuracy: 0.9691, Validation Accuracy: 0.9569, Loss: 0.0257\n",
      "Epoch   3 Batch  430/538 - Train Accuracy: 0.9568, Validation Accuracy: 0.9588, Loss: 0.0222\n",
      "Epoch   3 Batch  440/538 - Train Accuracy: 0.9756, Validation Accuracy: 0.9592, Loss: 0.0217\n",
      "Epoch   3 Batch  450/538 - Train Accuracy: 0.9429, Validation Accuracy: 0.9643, Loss: 0.0285\n",
      "Epoch   3 Batch  460/538 - Train Accuracy: 0.9647, Validation Accuracy: 0.9695, Loss: 0.0225\n",
      "Epoch   3 Batch  470/538 - Train Accuracy: 0.9635, Validation Accuracy: 0.9616, Loss: 0.0197\n",
      "Epoch   3 Batch  480/538 - Train Accuracy: 0.9717, Validation Accuracy: 0.9505, Loss: 0.0180\n",
      "Epoch   3 Batch  490/538 - Train Accuracy: 0.9581, Validation Accuracy: 0.9521, Loss: 0.0205\n",
      "Epoch   3 Batch  500/538 - Train Accuracy: 0.9759, Validation Accuracy: 0.9508, Loss: 0.0151\n",
      "Epoch   3 Batch  510/538 - Train Accuracy: 0.9661, Validation Accuracy: 0.9654, Loss: 0.0183\n",
      "Epoch   3 Batch  520/538 - Train Accuracy: 0.9746, Validation Accuracy: 0.9627, Loss: 0.0219\n",
      "Epoch   3 Batch  530/538 - Train Accuracy: 0.9605, Validation Accuracy: 0.9663, Loss: 0.0235\n",
      "Model Trained and Saved\n"
     ]
    }
   ],
   "source": [
    "\"\"\"\n",
    "DON'T MODIFY ANYTHING IN THIS CELL\n",
    "\"\"\"\n",
    "def get_accuracy(target, logits):\n",
    "    \"\"\"\n",
    "    Calculate accuracy\n",
    "    \"\"\"\n",
    "    max_seq = max(target.shape[1], logits.shape[1])\n",
    "    if max_seq - target.shape[1]:\n",
    "        target = np.pad(\n",
    "            target,\n",
    "            [(0,0),(0,max_seq - target.shape[1])],\n",
    "            'constant')\n",
    "    if max_seq - logits.shape[1]:\n",
    "        logits = np.pad(\n",
    "            logits,\n",
    "            [(0,0),(0,max_seq - logits.shape[1])],\n",
    "            'constant')\n",
    "\n",
    "    return np.mean(np.equal(target, logits))\n",
    "\n",
    "# Split data to training and validation sets\n",
    "train_source = source_int_text[batch_size:]\n",
    "train_target = target_int_text[batch_size:]\n",
    "valid_source = source_int_text[:batch_size]\n",
    "valid_target = target_int_text[:batch_size]\n",
    "(valid_sources_batch, valid_targets_batch, valid_sources_lengths, valid_targets_lengths ) = next(get_batches(valid_source,\n",
    "                                                                                                             valid_target,\n",
    "                                                                                                             batch_size,\n",
    "                                                                                                             source_vocab_to_int['<PAD>'],\n",
    "                                                                                                             target_vocab_to_int['<PAD>']))                                                                                                  \n",
    "with tf.Session(graph=train_graph) as sess:\n",
    "    sess.run(tf.global_variables_initializer())\n",
    "\n",
    "    for epoch_i in range(epochs):\n",
    "        for batch_i, (source_batch, target_batch, sources_lengths, targets_lengths) in enumerate(\n",
    "                get_batches(train_source, train_target, batch_size,\n",
    "                            source_vocab_to_int['<PAD>'],\n",
    "                            target_vocab_to_int['<PAD>'])):\n",
    "\n",
    "            _, loss = sess.run(\n",
    "                [train_op, cost],\n",
    "                {input_data: source_batch,\n",
    "                 targets: target_batch,\n",
    "                 lr: learning_rate,\n",
    "                 target_sequence_length: targets_lengths,\n",
    "                 source_sequence_length: sources_lengths,\n",
    "                 keep_prob: keep_probability})\n",
    "\n",
    "\n",
    "            if batch_i % display_step == 0 and batch_i > 0:\n",
    "\n",
    "\n",
    "                batch_train_logits = sess.run(\n",
    "                    inference_logits,\n",
    "                    {input_data: source_batch,\n",
    "                     source_sequence_length: sources_lengths,\n",
    "                     target_sequence_length: targets_lengths,\n",
    "                     keep_prob: 1.0})\n",
    "\n",
    "\n",
    "                batch_valid_logits = sess.run(\n",
    "                    inference_logits,\n",
    "                    {input_data: valid_sources_batch,\n",
    "                     source_sequence_length: valid_sources_lengths,\n",
    "                     target_sequence_length: valid_targets_lengths,\n",
    "                     keep_prob: 1.0})\n",
    "\n",
    "                train_acc = get_accuracy(target_batch, batch_train_logits)\n",
    "\n",
    "                valid_acc = get_accuracy(valid_targets_batch, batch_valid_logits)\n",
    "\n",
    "                print('Epoch {:>3} Batch {:>4}/{} - Train Accuracy: {:>6.4f}, Validation Accuracy: {:>6.4f}, Loss: {:>6.4f}'\n",
    "                      .format(epoch_i, batch_i, len(source_int_text) // batch_size, train_acc, valid_acc, loss))\n",
    "\n",
    "    # Save Model\n",
    "    saver = tf.train.Saver()\n",
    "    saver.save(sess, save_path)\n",
    "    print('Model Trained and Saved')"
   ]
  },
  {
   "cell_type": "markdown",
   "metadata": {},
   "source": [
    "### Save Parameters\n",
    "Save the `batch_size` and `save_path` parameters for inference."
   ]
  },
  {
   "cell_type": "code",
   "execution_count": null,
   "metadata": {
    "collapsed": true
   },
   "outputs": [],
   "source": [
    "\"\"\"\n",
    "DON'T MODIFY ANYTHING IN THIS CELL\n",
    "\"\"\"\n",
    "# Save parameters for checkpoint\n",
    "helper.save_params(save_path)"
   ]
  },
  {
   "cell_type": "markdown",
   "metadata": {},
   "source": [
    "# Checkpoint"
   ]
  },
  {
   "cell_type": "code",
   "execution_count": null,
   "metadata": {
    "collapsed": true
   },
   "outputs": [],
   "source": [
    "\"\"\"\n",
    "DON'T MODIFY ANYTHING IN THIS CELL\n",
    "\"\"\"\n",
    "import tensorflow as tf\n",
    "import numpy as np\n",
    "import helper\n",
    "import problem_unittests as tests\n",
    "\n",
    "_, (source_vocab_to_int, target_vocab_to_int), (source_int_to_vocab, target_int_to_vocab) = helper.load_preprocess()\n",
    "load_path = helper.load_params()"
   ]
  },
  {
   "cell_type": "markdown",
   "metadata": {},
   "source": [
    "## Sentence to Sequence\n",
    "To feed a sentence into the model for translation, you first need to preprocess it.  Implement the function `sentence_to_seq()` to preprocess new sentences.\n",
    "\n",
    "- Convert the sentence to lowercase\n",
    "- Convert words into ids using `vocab_to_int`\n",
    " - Convert words not in the vocabulary, to the `<UNK>` word id."
   ]
  },
  {
   "cell_type": "code",
   "execution_count": null,
   "metadata": {},
   "outputs": [
    {
     "name": "stdout",
     "output_type": "stream",
     "text": [
      "Tests Passed\n"
     ]
    }
   ],
   "source": [
    "def sentence_to_seq(sentence, vocab_to_int):\n",
    "    \"\"\"\n",
    "    Convert a sentence to a sequence of ids\n",
    "    :param sentence: String\n",
    "    :param vocab_to_int: Dictionary to go from the words to an id\n",
    "    :return: List of word ids\n",
    "    \"\"\"\n",
    "    # TODO: Implement Function\n",
    "    s = sentence.lower()\n",
    "    default = vocab_to_int[\"<UNK>\"]\n",
    "    word_ids = [vocab_to_int.get(word, default) for word in s.split()]\n",
    "    return word_ids\n",
    "\n",
    "\n",
    "\"\"\"\n",
    "DON'T MODIFY ANYTHING IN THIS CELL THAT IS BELOW THIS LINE\n",
    "\"\"\"\n",
    "tests.test_sentence_to_seq(sentence_to_seq)"
   ]
  },
  {
   "cell_type": "markdown",
   "metadata": {},
   "source": [
    "## Translate\n",
    "This will translate `translate_sentence` from English to French."
   ]
  },
  {
   "cell_type": "code",
   "execution_count": null,
   "metadata": {},
   "outputs": [
    {
     "name": "stdout",
     "output_type": "stream",
     "text": [
      "INFO:tensorflow:Restoring parameters from checkpoints/dev\n",
      "Input\n",
      "  Word Ids:      [143, 127, 84, 124, 164, 57, 197]\n",
      "  English Words: ['he', 'saw', 'a', 'old', 'yellow', 'truck', '.']\n",
      "\n",
      "Prediction\n",
      "  Word Ids:      [101, 185, 74, 11, 11, 198, 277, 294, 0, 0, 0, 0, 0, 0]\n",
      "  French Words: il est se d' d' mars et les <PAD> <PAD> <PAD> <PAD> <PAD> <PAD>\n"
     ]
    }
   ],
   "source": [
    "translate_sentence = 'he saw a old yellow truck .'\n",
    "\n",
    "\n",
    "\"\"\"\n",
    "DON'T MODIFY ANYTHING IN THIS CELL\n",
    "\"\"\"\n",
    "translate_sentence = sentence_to_seq(translate_sentence, source_vocab_to_int)\n",
    "\n",
    "loaded_graph = tf.Graph()\n",
    "with tf.Session(graph=loaded_graph) as sess:\n",
    "    # Load saved model\n",
    "    loader = tf.train.import_meta_graph(load_path + '.meta')\n",
    "    loader.restore(sess, load_path)\n",
    "\n",
    "    input_data = loaded_graph.get_tensor_by_name('input:0')\n",
    "    logits = loaded_graph.get_tensor_by_name('predictions:0')\n",
    "    target_sequence_length = loaded_graph.get_tensor_by_name('target_sequence_length:0')\n",
    "    source_sequence_length = loaded_graph.get_tensor_by_name('source_sequence_length:0')\n",
    "    keep_prob = loaded_graph.get_tensor_by_name('keep_prob:0')\n",
    "\n",
    "    translate_logits = sess.run(logits, {input_data: [translate_sentence]*batch_size,\n",
    "                                         target_sequence_length: [len(translate_sentence)*2]*batch_size,\n",
    "                                         source_sequence_length: [len(translate_sentence)]*batch_size,\n",
    "                                         keep_prob: 1.0})[0]\n",
    "\n",
    "print('Input')\n",
    "print('  Word Ids:      {}'.format([i for i in translate_sentence]))\n",
    "print('  English Words: {}'.format([source_int_to_vocab[i] for i in translate_sentence]))\n",
    "\n",
    "print('\\nPrediction')\n",
    "print('  Word Ids:      {}'.format([i for i in translate_logits]))\n",
    "print('  French Words: {}'.format(\" \".join([target_int_to_vocab[i] for i in translate_logits])))\n"
   ]
  },
  {
   "cell_type": "markdown",
   "metadata": {},
   "source": [
    "## Imperfect Translation\n",
    "You might notice that some sentences translate better than others.  Since the dataset you're using only has a vocabulary of 227 English words of the thousands that you use, you're only going to see good results using these words.  For this project, you don't need a perfect translation. However, if you want to create a better translation model, you'll need better data.\n",
    "\n",
    "You can train on the [WMT10 French-English corpus](http://www.statmt.org/wmt10/training-giga-fren.tar).  This dataset has more vocabulary and richer in topics discussed.  However, this will take you days to train, so make sure you've a GPU and the neural network is performing well on dataset we provided.  Just make sure you play with the WMT10 corpus after you've submitted this project.\n",
    "## Submitting This Project\n",
    "When submitting this project, make sure to run all the cells before saving the notebook. Save the notebook file as \"dlnd_language_translation.ipynb\" and save it as a HTML file under \"File\" -> \"Download as\". Include the \"helper.py\" and \"problem_unittests.py\" files in your submission."
   ]
  }
 ],
 "metadata": {
  "anaconda-cloud": {},
  "kernelspec": {
   "display_name": "Python 3",
   "language": "python",
   "name": "python3"
  },
  "language_info": {
   "codemirror_mode": {
    "name": "ipython",
    "version": 3
   },
   "file_extension": ".py",
   "mimetype": "text/x-python",
   "name": "python",
   "nbconvert_exporter": "python",
   "pygments_lexer": "ipython3",
   "version": "3.5.4"
  }
 },
 "nbformat": 4,
 "nbformat_minor": 1
}
